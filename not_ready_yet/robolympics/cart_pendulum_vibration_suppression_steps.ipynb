{
 "cells": [
  {
   "cell_type": "markdown",
   "id": "49522c68",
   "metadata": {},
   "source": [
    "# Cart/Pendulum System ID and Encoder Polarity Check"
   ]
  },
  {
   "cell_type": "markdown",
   "id": "ed807057",
   "metadata": {},
   "source": [
    "## Steps to Pendulum Vibration Suppression (Event 1)\n",
    "\n",
    "- program the Arduino Uno with the pendulum reader i$^2$c code:\n",
    "    - `pendulum_reader_v2_with_servo.ino`\n",
    "- connect the Uno to i$^2$c\n",
    "- connect the encoder to the Uno\n",
    "- verify that you can read the encoder over i$^2$ by doing a pendulum flick test\n",
    "- verify the sign of the encoder signal by doing a pulse test\n",
    "- swept sine system ID\n",
    "- PD tuning\n",
    "- root locus control design"
   ]
  },
  {
   "cell_type": "markdown",
   "id": "c97e6d5b",
   "metadata": {},
   "source": [
    "## i$^2$c connections"
   ]
  },
  {
   "cell_type": "markdown",
   "id": "9369326c",
   "metadata": {},
   "source": [
    "i$^2$c allows many secondary devices to be connected to one main device using the same `SDA` and `SCL` connections.  So, the Raspberry Pi will communicate with both Arduinos using these same connections.  Pin `A4` is `SDA` on an Uno and `A5` is `SCL`.  You will also need to connect `5V` and `GND`.  Use the screw terminals on the red hats to make these connections Raspberry Pi and the Uno.  Remember that the RPi needs to communicate with both Arduinos, so do not disconnect the i$^2$c wires from the Mega."
   ]
  },
  {
   "cell_type": "markdown",
   "id": "b18ee8df",
   "metadata": {},
   "source": [
    "## Encoder Connections\n",
    "\n",
    "The encoder has four wires coming out of it: red, black, green, and white.  Red is 5V, black is GND, and the green and whire are the encoder A and B channels.  Connect 5V and GND to appropriate spots on the Uno.  The green and white wires connect to pins 2 and 3 - but which is which is a guess for now.  You will verify that you have them correct using an open-loop pulse test.  If the sign is backwards, you will later swap the green and white wires."
   ]
  },
  {
   "cell_type": "markdown",
   "id": "67a8f6f3",
   "metadata": {},
   "source": [
    "## Verify Uno i$^2$c by Running a Flick Test"
   ]
  },
  {
   "cell_type": "markdown",
   "id": "e5d9b135",
   "metadata": {},
   "source": [
    "In order to verify that the RPi can read the encoder over i$^2$c from the Uno, create a block diagram that sends 0 volts to both motors.  Make sure that you sent the `pend_enc` as a print block.  Then flick the pendulum and run a test (the robot will not move).  Then plot the `pend_enc` reading vs. time to verify that the encoder reading is getting to the RPi."
   ]
  },
  {
   "cell_type": "markdown",
   "id": "406f6518",
   "metadata": {},
   "source": [
    "Here is an example of the pendulum encoder reading from a flick test:\n",
    "\n",
    "<img src=\"https://drive.google.com/uc?id=1dX58De-8QQDBfEgU4KpCztId-X9IW0Mg\" width=500px>"
   ]
  },
  {
   "cell_type": "markdown",
   "id": "a30ddfe2",
   "metadata": {},
   "source": [
    "## Open-Loop Pulse Test to Check the Sign \n",
    "\n",
    "Trying to perform feedback control will go very badly if the signs are wrong.  You need to verify that a forward pulse cause the encoder reading to increase.  If this is not the case, swap the green and white wires on pins 2 and 3.  In order to perform the test, create a positive pulse that is large enough to over come friction (probably 150-200 counts) and send it to both wheels.  Make sure that the pulse input and `pend_enc` are both set as print blocks.\n",
    "\n",
    "Here are examples of incorrect and correct encoder readings:"
   ]
  },
  {
   "cell_type": "markdown",
   "id": "e348f506",
   "metadata": {},
   "source": [
    "<img src=\"https://drive.google.com/uc?id=1dfaL9kaDk4o7Df8hRKBDJvyETQ3y-Nzn\" width=500px>"
   ]
  },
  {
   "cell_type": "markdown",
   "id": "b8da5f61",
   "metadata": {},
   "source": [
    "<img src=\"https://drive.google.com/uc?id=1d_2E6Wb8Xh2SPXLWCTm9rTnpIstKSSzu\" width=500px>"
   ]
  },
  {
   "cell_type": "markdown",
   "id": "c0706d8d",
   "metadata": {},
   "source": [
    "## Next Steps"
   ]
  },
  {
   "cell_type": "markdown",
   "id": "f367c65f",
   "metadata": {},
   "source": [
    "Once you have the polarity of your encoder correct, you are ready for next steps related to event 1.  You could either start with P, PD, or PID tuning for vibration suppression or you could do swept sine system ID for the cart/pendulum system.  The TF from this system ID will be used for root locus control design. "
   ]
  }
 ],
 "metadata": {
  "kernelspec": {
   "display_name": "Python 3 (ipykernel)",
   "language": "python",
   "name": "python3"
  },
  "language_info": {
   "codemirror_mode": {
    "name": "ipython",
    "version": 3
   },
   "file_extension": ".py",
   "mimetype": "text/x-python",
   "name": "python",
   "nbconvert_exporter": "python",
   "pygments_lexer": "ipython3",
   "version": "3.11.2"
  }
 },
 "nbformat": 4,
 "nbformat_minor": 5
}
