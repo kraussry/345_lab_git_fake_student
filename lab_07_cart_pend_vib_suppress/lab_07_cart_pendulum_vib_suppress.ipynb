{
 "cells": [
  {
   "cell_type": "markdown",
   "id": "75220161-9bdd-4076-a71a-57f076f806e2",
   "metadata": {},
   "source": [
    "# Lab 7: Vibration Suppression in a Cart/Pendulum System"
   ]
  },
  {
   "cell_type": "markdown",
   "id": "f6e7715d-5171-413c-b291-4ceffce47162",
   "metadata": {},
   "source": [
    "## Overview\n",
    "\n",
    "For this lab, you will develop a vibration suppresion controller two ways:\n",
    "\n",
    "- PD tuning\n",
    "- control design based on root locus or symbolic CLTF analysis\n",
    "\n",
    "In order to perform the design, you will need a TF for the system.  Since the system is open-loop stable, you can do Bode analysis based on open-loop swept-sine input.  You could also perform system ID based on an open-loop pulse test.\n",
    "\n",
    "**Note:** You **must** perform an open-loop pulse test to verify the sign of your encoder/h-bridge relationship before putting the system under feedback control.\n",
    "\n",
    "### Grading\n",
    "\n",
    "You will be graded based on the following things:\n",
    "\n",
    "- your system ID process and the TF you come up with\n",
    "- your control design process\n",
    "- the performance of your system in a final verification test"
   ]
  },
  {
   "cell_type": "markdown",
   "id": "7d5e47df-b4ba-4d0d-bcc8-be0e6e3b5e02",
   "metadata": {},
   "source": [
    "##  Final Verification Test"
   ]
  },
  {
   "cell_type": "markdown",
   "id": "32058f80-c843-41d0-99b0-5bae0de24539",
   "metadata": {},
   "source": [
    "For the vibration suppression event, your instructor will flick the pendulum and start it\n",
    "swinging. Your team will then start the test by giving a command to the Raspberry Pi at\n",
    "the terminal. Your code must collect at least one second of data before switching on the\n",
    "vibration suppression control. Additionally, your vibration suppression must switch on before\n",
    "the encoder peaks fall below 75 counts.\n",
    "\n",
    "*Note: the cart cannot move until the vibration suppression control turns on.* Your block\n",
    "diagram must print a variable that indicates when the vibration suppression control kicks on,\n",
    "in addition to the encoder data. Your score for this event will depend on the settling time that\n",
    "will be measured from when the vibration suppression control turns on. Settling time will be\n",
    "determined by finding the largest encoder value after the vibrations suppression control turns\n",
    "on. Your pendulum has settled when it stays within ±4% of that largest encoder value.\n",
    "Note: For this event, your cart must come to rest within ±4 in of where it started the event.\n",
    "\n",
    "### Example Vibration Suppression Settling Time Graph\n",
    "\n",
    "<img src=\"figs/event_1_example_fig.png\" width=500px>\n",
    "\n",
    "**Required step:**\n",
    "\n",
    "Open-loop pulse test to verify encoder sign (see below).\n",
    "\n",
    "Recommended steps:\n",
    "\n",
    "- Perform a swept sign test to determine the transfer function between voltage to the\n",
    "motors and the pendulum encoder output\n",
    "- Use root locus to design the vibration suppression controller\n",
    "\n"
   ]
  },
  {
   "cell_type": "markdown",
   "id": "f47ee7bc-8f65-4297-8077-a8edb41ca7be",
   "metadata": {},
   "source": [
    "## Block Diagram Notes\n",
    "\n",
    "Your plant for this lab is a `plant_with_double_actuator` that has a custom actuator whose Arduino class is `cartmotors` and the sensors is an encoder with sensitivity of 4.  The two inputs to the plant represent the two motors (right and left).  Since we are not line following this year, you probably want them to have the same input (you may discover that a small correction factor is needed to drive straight).\n",
    "\n",
    "Make sure you use the new Arduino tempalte `arduino_template_cart_rev_1.ino`.\n"
   ]
  },
  {
   "cell_type": "markdown",
   "id": "e4875c5b-8fcf-48db-a562-7d87be66a971",
   "metadata": {},
   "source": [
    "## Open-Loop Pulse Test to Check the Sign \n",
    "\n",
    "Trying to perform feedback control will go very badly if the signs are wrong.  You need to verify that a forward pulse cause the encoder reading to increase.  If this is not the case, swap the green and white wires on pins 2 and 3.  In order to perform the test, create a positive pulse that is large enough to over come friction (probably 150-200 counts) and send it to both wheels.  \n",
    "\n",
    "Here are examples of incorrect and correct encoder readings:"
   ]
  },
  {
   "cell_type": "markdown",
   "id": "f1f45516-94a3-4cc9-80e0-d6e44ffa1c38",
   "metadata": {},
   "source": [
    "<img src=\"figs/bad_pend_enc_pulse.png\" width=500px>"
   ]
  },
  {
   "cell_type": "markdown",
   "id": "dbb9ed61-b967-4f5b-ac6f-c58959d57315",
   "metadata": {},
   "source": [
    "<img src=\"figs/good_pend_enc_pulse.png\" width=500px>"
   ]
  },
  {
   "cell_type": "markdown",
   "id": "5394a1f1-8061-4a7d-bcdb-721bbc6165d4",
   "metadata": {},
   "source": [
    "## Next Steps"
   ]
  },
  {
   "cell_type": "markdown",
   "id": "ee4d03ba-3a5c-41fd-9c68-4a0d775578d8",
   "metadata": {},
   "source": [
    "Once you have the polarity of your encoder correct, you are ready for next steps related to vibration suppression.  You could either start with P, PD, or PID tuning for vibration suppression or you could do swept sine system ID for the cart/pendulum system.  The TF from this system ID will be used for root locus control design. "
   ]
  }
 ],
 "metadata": {
  "kernelspec": {
   "display_name": "Python 3 (ipykernel)",
   "language": "python",
   "name": "python3"
  },
  "language_info": {
   "codemirror_mode": {
    "name": "ipython",
    "version": 3
   },
   "file_extension": ".py",
   "mimetype": "text/x-python",
   "name": "python",
   "nbconvert_exporter": "python",
   "pygments_lexer": "ipython3",
   "version": "3.12.5"
  }
 },
 "nbformat": 4,
 "nbformat_minor": 5
}
